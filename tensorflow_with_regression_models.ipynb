{
  "nbformat": 4,
  "nbformat_minor": 0,
  "metadata": {
    "colab": {
      "provenance": [],
      "authorship_tag": "ABX9TyMci4FjaFT/c54sfdsTXXlX",
      "include_colab_link": true
    },
    "kernelspec": {
      "name": "python3",
      "display_name": "Python 3"
    },
    "language_info": {
      "name": "python"
    }
  },
  "cells": [
    {
      "cell_type": "markdown",
      "metadata": {
        "id": "view-in-github",
        "colab_type": "text"
      },
      "source": [
        "<a href=\"https://colab.research.google.com/github/kushagrathisside/Tensorflow-Files/blob/main/tensorflow_with_regression_models.ipynb\" target=\"_parent\"><img src=\"https://colab.research.google.com/assets/colab-badge.svg\" alt=\"Open In Colab\"/></a>"
      ]
    },
    {
      "cell_type": "code",
      "source": [
        "import numpy as np\n",
        "import pandas as pd\n",
        "df=pd.read_csv('/content/Train.csv')"
      ],
      "metadata": {
        "id": "VUwWT1deH_gO"
      },
      "execution_count": null,
      "outputs": []
    },
    {
      "cell_type": "code",
      "source": [
        "df.head()"
      ],
      "metadata": {
        "colab": {
          "base_uri": "https://localhost:8080/",
          "height": 322
        },
        "id": "dtnthSsM_dnB",
        "outputId": "0faaa7ff-0712-47c3-ba64-49c76e17c1c3"
      },
      "execution_count": null,
      "outputs": [
        {
          "output_type": "execute_result",
          "data": {
            "text/plain": [
              "  POSTED_BY  UNDER_CONSTRUCTION  RERA  BHK_NO. BHK_OR_RK    SQUARE_FT  \\\n",
              "0     Owner                   0     0        2       BHK  1300.236407   \n",
              "1    Dealer                   0     0        2       BHK  1275.000000   \n",
              "2     Owner                   0     0        2       BHK   933.159722   \n",
              "3     Owner                   0     1        2       BHK   929.921143   \n",
              "4    Dealer                   1     0        2       BHK   999.009247   \n",
              "\n",
              "   READY_TO_MOVE  RESALE                      ADDRESS  LONGITUDE   LATITUDE  \\\n",
              "0              1       1        Ksfc Layout,Bangalore  12.969910  77.597960   \n",
              "1              1       1    Vishweshwara Nagar,Mysore  12.274538  76.644605   \n",
              "2              1       1             Jigani,Bangalore  12.778033  77.632191   \n",
              "3              1       1  Sector-1 Vaishali,Ghaziabad  28.642300  77.344500   \n",
              "4              0       1             New Town,Kolkata  22.592200  88.484911   \n",
              "\n",
              "   TARGET(PRICE_IN_LACS)  \n",
              "0                   55.0  \n",
              "1                   51.0  \n",
              "2                   43.0  \n",
              "3                   62.5  \n",
              "4                   60.5  "
            ],
            "text/html": [
              "\n",
              "  <div id=\"df-e56e51ba-fa20-4036-b17c-b11b816e532e\">\n",
              "    <div class=\"colab-df-container\">\n",
              "      <div>\n",
              "<style scoped>\n",
              "    .dataframe tbody tr th:only-of-type {\n",
              "        vertical-align: middle;\n",
              "    }\n",
              "\n",
              "    .dataframe tbody tr th {\n",
              "        vertical-align: top;\n",
              "    }\n",
              "\n",
              "    .dataframe thead th {\n",
              "        text-align: right;\n",
              "    }\n",
              "</style>\n",
              "<table border=\"1\" class=\"dataframe\">\n",
              "  <thead>\n",
              "    <tr style=\"text-align: right;\">\n",
              "      <th></th>\n",
              "      <th>POSTED_BY</th>\n",
              "      <th>UNDER_CONSTRUCTION</th>\n",
              "      <th>RERA</th>\n",
              "      <th>BHK_NO.</th>\n",
              "      <th>BHK_OR_RK</th>\n",
              "      <th>SQUARE_FT</th>\n",
              "      <th>READY_TO_MOVE</th>\n",
              "      <th>RESALE</th>\n",
              "      <th>ADDRESS</th>\n",
              "      <th>LONGITUDE</th>\n",
              "      <th>LATITUDE</th>\n",
              "      <th>TARGET(PRICE_IN_LACS)</th>\n",
              "    </tr>\n",
              "  </thead>\n",
              "  <tbody>\n",
              "    <tr>\n",
              "      <th>0</th>\n",
              "      <td>Owner</td>\n",
              "      <td>0</td>\n",
              "      <td>0</td>\n",
              "      <td>2</td>\n",
              "      <td>BHK</td>\n",
              "      <td>1300.236407</td>\n",
              "      <td>1</td>\n",
              "      <td>1</td>\n",
              "      <td>Ksfc Layout,Bangalore</td>\n",
              "      <td>12.969910</td>\n",
              "      <td>77.597960</td>\n",
              "      <td>55.0</td>\n",
              "    </tr>\n",
              "    <tr>\n",
              "      <th>1</th>\n",
              "      <td>Dealer</td>\n",
              "      <td>0</td>\n",
              "      <td>0</td>\n",
              "      <td>2</td>\n",
              "      <td>BHK</td>\n",
              "      <td>1275.000000</td>\n",
              "      <td>1</td>\n",
              "      <td>1</td>\n",
              "      <td>Vishweshwara Nagar,Mysore</td>\n",
              "      <td>12.274538</td>\n",
              "      <td>76.644605</td>\n",
              "      <td>51.0</td>\n",
              "    </tr>\n",
              "    <tr>\n",
              "      <th>2</th>\n",
              "      <td>Owner</td>\n",
              "      <td>0</td>\n",
              "      <td>0</td>\n",
              "      <td>2</td>\n",
              "      <td>BHK</td>\n",
              "      <td>933.159722</td>\n",
              "      <td>1</td>\n",
              "      <td>1</td>\n",
              "      <td>Jigani,Bangalore</td>\n",
              "      <td>12.778033</td>\n",
              "      <td>77.632191</td>\n",
              "      <td>43.0</td>\n",
              "    </tr>\n",
              "    <tr>\n",
              "      <th>3</th>\n",
              "      <td>Owner</td>\n",
              "      <td>0</td>\n",
              "      <td>1</td>\n",
              "      <td>2</td>\n",
              "      <td>BHK</td>\n",
              "      <td>929.921143</td>\n",
              "      <td>1</td>\n",
              "      <td>1</td>\n",
              "      <td>Sector-1 Vaishali,Ghaziabad</td>\n",
              "      <td>28.642300</td>\n",
              "      <td>77.344500</td>\n",
              "      <td>62.5</td>\n",
              "    </tr>\n",
              "    <tr>\n",
              "      <th>4</th>\n",
              "      <td>Dealer</td>\n",
              "      <td>1</td>\n",
              "      <td>0</td>\n",
              "      <td>2</td>\n",
              "      <td>BHK</td>\n",
              "      <td>999.009247</td>\n",
              "      <td>0</td>\n",
              "      <td>1</td>\n",
              "      <td>New Town,Kolkata</td>\n",
              "      <td>22.592200</td>\n",
              "      <td>88.484911</td>\n",
              "      <td>60.5</td>\n",
              "    </tr>\n",
              "  </tbody>\n",
              "</table>\n",
              "</div>\n",
              "      <button class=\"colab-df-convert\" onclick=\"convertToInteractive('df-e56e51ba-fa20-4036-b17c-b11b816e532e')\"\n",
              "              title=\"Convert this dataframe to an interactive table.\"\n",
              "              style=\"display:none;\">\n",
              "        \n",
              "  <svg xmlns=\"http://www.w3.org/2000/svg\" height=\"24px\"viewBox=\"0 0 24 24\"\n",
              "       width=\"24px\">\n",
              "    <path d=\"M0 0h24v24H0V0z\" fill=\"none\"/>\n",
              "    <path d=\"M18.56 5.44l.94 2.06.94-2.06 2.06-.94-2.06-.94-.94-2.06-.94 2.06-2.06.94zm-11 1L8.5 8.5l.94-2.06 2.06-.94-2.06-.94L8.5 2.5l-.94 2.06-2.06.94zm10 10l.94 2.06.94-2.06 2.06-.94-2.06-.94-.94-2.06-.94 2.06-2.06.94z\"/><path d=\"M17.41 7.96l-1.37-1.37c-.4-.4-.92-.59-1.43-.59-.52 0-1.04.2-1.43.59L10.3 9.45l-7.72 7.72c-.78.78-.78 2.05 0 2.83L4 21.41c.39.39.9.59 1.41.59.51 0 1.02-.2 1.41-.59l7.78-7.78 2.81-2.81c.8-.78.8-2.07 0-2.86zM5.41 20L4 18.59l7.72-7.72 1.47 1.35L5.41 20z\"/>\n",
              "  </svg>\n",
              "      </button>\n",
              "      \n",
              "  <style>\n",
              "    .colab-df-container {\n",
              "      display:flex;\n",
              "      flex-wrap:wrap;\n",
              "      gap: 12px;\n",
              "    }\n",
              "\n",
              "    .colab-df-convert {\n",
              "      background-color: #E8F0FE;\n",
              "      border: none;\n",
              "      border-radius: 50%;\n",
              "      cursor: pointer;\n",
              "      display: none;\n",
              "      fill: #1967D2;\n",
              "      height: 32px;\n",
              "      padding: 0 0 0 0;\n",
              "      width: 32px;\n",
              "    }\n",
              "\n",
              "    .colab-df-convert:hover {\n",
              "      background-color: #E2EBFA;\n",
              "      box-shadow: 0px 1px 2px rgba(60, 64, 67, 0.3), 0px 1px 3px 1px rgba(60, 64, 67, 0.15);\n",
              "      fill: #174EA6;\n",
              "    }\n",
              "\n",
              "    [theme=dark] .colab-df-convert {\n",
              "      background-color: #3B4455;\n",
              "      fill: #D2E3FC;\n",
              "    }\n",
              "\n",
              "    [theme=dark] .colab-df-convert:hover {\n",
              "      background-color: #434B5C;\n",
              "      box-shadow: 0px 1px 3px 1px rgba(0, 0, 0, 0.15);\n",
              "      filter: drop-shadow(0px 1px 2px rgba(0, 0, 0, 0.3));\n",
              "      fill: #FFFFFF;\n",
              "    }\n",
              "  </style>\n",
              "\n",
              "      <script>\n",
              "        const buttonEl =\n",
              "          document.querySelector('#df-e56e51ba-fa20-4036-b17c-b11b816e532e button.colab-df-convert');\n",
              "        buttonEl.style.display =\n",
              "          google.colab.kernel.accessAllowed ? 'block' : 'none';\n",
              "\n",
              "        async function convertToInteractive(key) {\n",
              "          const element = document.querySelector('#df-e56e51ba-fa20-4036-b17c-b11b816e532e');\n",
              "          const dataTable =\n",
              "            await google.colab.kernel.invokeFunction('convertToInteractive',\n",
              "                                                     [key], {});\n",
              "          if (!dataTable) return;\n",
              "\n",
              "          const docLinkHtml = 'Like what you see? Visit the ' +\n",
              "            '<a target=\"_blank\" href=https://colab.research.google.com/notebooks/data_table.ipynb>data table notebook</a>'\n",
              "            + ' to learn more about interactive tables.';\n",
              "          element.innerHTML = '';\n",
              "          dataTable['output_type'] = 'display_data';\n",
              "          await google.colab.output.renderOutput(dataTable, element);\n",
              "          const docLink = document.createElement('div');\n",
              "          docLink.innerHTML = docLinkHtml;\n",
              "          element.appendChild(docLink);\n",
              "        }\n",
              "      </script>\n",
              "    </div>\n",
              "  </div>\n",
              "  "
            ]
          },
          "metadata": {},
          "execution_count": 2
        }
      ]
    },
    {
      "cell_type": "code",
      "source": [
        "df.shape"
      ],
      "metadata": {
        "colab": {
          "base_uri": "https://localhost:8080/"
        },
        "id": "DsX38J4V_ZiO",
        "outputId": "22058734-2b28-44e1-e5b6-8e87457b457a"
      },
      "execution_count": null,
      "outputs": [
        {
          "output_type": "execute_result",
          "data": {
            "text/plain": [
              "(29451, 12)"
            ]
          },
          "metadata": {},
          "execution_count": 3
        }
      ]
    },
    {
      "cell_type": "code",
      "source": [
        "df=df.drop('ADDRESS',axis=1)"
      ],
      "metadata": {
        "id": "9si_D2O0CyuB"
      },
      "execution_count": null,
      "outputs": []
    },
    {
      "cell_type": "code",
      "source": [
        "from sklearn import preprocessing\n",
        "le = preprocessing.LabelEncoder()\n",
        "le.fit(df['POSTED_BY'])\n",
        "df['POSTED_BY']=le.transform(df['POSTED_BY'])"
      ],
      "metadata": {
        "id": "8m5lxpMODynp"
      },
      "execution_count": null,
      "outputs": []
    },
    {
      "cell_type": "code",
      "source": [
        "le2 = preprocessing.LabelEncoder()\n",
        "le2.fit(df['BHK_OR_RK'])\n",
        "df['BHK_OR_RK']=le2.transform(df['BHK_OR_RK'])"
      ],
      "metadata": {
        "id": "flCKZ1JxGAU0"
      },
      "execution_count": null,
      "outputs": []
    },
    {
      "cell_type": "code",
      "source": [
        "df.head()"
      ],
      "metadata": {
        "colab": {
          "base_uri": "https://localhost:8080/",
          "height": 270
        },
        "id": "yUBVNWJnEk__",
        "outputId": "c3b989d4-5ee7-434a-decf-9dc45cb83f1f"
      },
      "execution_count": null,
      "outputs": [
        {
          "output_type": "execute_result",
          "data": {
            "text/plain": [
              "   POSTED_BY  UNDER_CONSTRUCTION  RERA  BHK_NO.  BHK_OR_RK    SQUARE_FT  \\\n",
              "0          2                   0     0        2          0  1300.236407   \n",
              "1          1                   0     0        2          0  1275.000000   \n",
              "2          2                   0     0        2          0   933.159722   \n",
              "3          2                   0     1        2          0   929.921143   \n",
              "4          1                   1     0        2          0   999.009247   \n",
              "\n",
              "   READY_TO_MOVE  RESALE  LONGITUDE   LATITUDE  TARGET(PRICE_IN_LACS)  \n",
              "0              1       1  12.969910  77.597960                   55.0  \n",
              "1              1       1  12.274538  76.644605                   51.0  \n",
              "2              1       1  12.778033  77.632191                   43.0  \n",
              "3              1       1  28.642300  77.344500                   62.5  \n",
              "4              0       1  22.592200  88.484911                   60.5  "
            ],
            "text/html": [
              "\n",
              "  <div id=\"df-a23fbc7c-bda5-4109-9332-0b088a05dc71\">\n",
              "    <div class=\"colab-df-container\">\n",
              "      <div>\n",
              "<style scoped>\n",
              "    .dataframe tbody tr th:only-of-type {\n",
              "        vertical-align: middle;\n",
              "    }\n",
              "\n",
              "    .dataframe tbody tr th {\n",
              "        vertical-align: top;\n",
              "    }\n",
              "\n",
              "    .dataframe thead th {\n",
              "        text-align: right;\n",
              "    }\n",
              "</style>\n",
              "<table border=\"1\" class=\"dataframe\">\n",
              "  <thead>\n",
              "    <tr style=\"text-align: right;\">\n",
              "      <th></th>\n",
              "      <th>POSTED_BY</th>\n",
              "      <th>UNDER_CONSTRUCTION</th>\n",
              "      <th>RERA</th>\n",
              "      <th>BHK_NO.</th>\n",
              "      <th>BHK_OR_RK</th>\n",
              "      <th>SQUARE_FT</th>\n",
              "      <th>READY_TO_MOVE</th>\n",
              "      <th>RESALE</th>\n",
              "      <th>LONGITUDE</th>\n",
              "      <th>LATITUDE</th>\n",
              "      <th>TARGET(PRICE_IN_LACS)</th>\n",
              "    </tr>\n",
              "  </thead>\n",
              "  <tbody>\n",
              "    <tr>\n",
              "      <th>0</th>\n",
              "      <td>2</td>\n",
              "      <td>0</td>\n",
              "      <td>0</td>\n",
              "      <td>2</td>\n",
              "      <td>0</td>\n",
              "      <td>1300.236407</td>\n",
              "      <td>1</td>\n",
              "      <td>1</td>\n",
              "      <td>12.969910</td>\n",
              "      <td>77.597960</td>\n",
              "      <td>55.0</td>\n",
              "    </tr>\n",
              "    <tr>\n",
              "      <th>1</th>\n",
              "      <td>1</td>\n",
              "      <td>0</td>\n",
              "      <td>0</td>\n",
              "      <td>2</td>\n",
              "      <td>0</td>\n",
              "      <td>1275.000000</td>\n",
              "      <td>1</td>\n",
              "      <td>1</td>\n",
              "      <td>12.274538</td>\n",
              "      <td>76.644605</td>\n",
              "      <td>51.0</td>\n",
              "    </tr>\n",
              "    <tr>\n",
              "      <th>2</th>\n",
              "      <td>2</td>\n",
              "      <td>0</td>\n",
              "      <td>0</td>\n",
              "      <td>2</td>\n",
              "      <td>0</td>\n",
              "      <td>933.159722</td>\n",
              "      <td>1</td>\n",
              "      <td>1</td>\n",
              "      <td>12.778033</td>\n",
              "      <td>77.632191</td>\n",
              "      <td>43.0</td>\n",
              "    </tr>\n",
              "    <tr>\n",
              "      <th>3</th>\n",
              "      <td>2</td>\n",
              "      <td>0</td>\n",
              "      <td>1</td>\n",
              "      <td>2</td>\n",
              "      <td>0</td>\n",
              "      <td>929.921143</td>\n",
              "      <td>1</td>\n",
              "      <td>1</td>\n",
              "      <td>28.642300</td>\n",
              "      <td>77.344500</td>\n",
              "      <td>62.5</td>\n",
              "    </tr>\n",
              "    <tr>\n",
              "      <th>4</th>\n",
              "      <td>1</td>\n",
              "      <td>1</td>\n",
              "      <td>0</td>\n",
              "      <td>2</td>\n",
              "      <td>0</td>\n",
              "      <td>999.009247</td>\n",
              "      <td>0</td>\n",
              "      <td>1</td>\n",
              "      <td>22.592200</td>\n",
              "      <td>88.484911</td>\n",
              "      <td>60.5</td>\n",
              "    </tr>\n",
              "  </tbody>\n",
              "</table>\n",
              "</div>\n",
              "      <button class=\"colab-df-convert\" onclick=\"convertToInteractive('df-a23fbc7c-bda5-4109-9332-0b088a05dc71')\"\n",
              "              title=\"Convert this dataframe to an interactive table.\"\n",
              "              style=\"display:none;\">\n",
              "        \n",
              "  <svg xmlns=\"http://www.w3.org/2000/svg\" height=\"24px\"viewBox=\"0 0 24 24\"\n",
              "       width=\"24px\">\n",
              "    <path d=\"M0 0h24v24H0V0z\" fill=\"none\"/>\n",
              "    <path d=\"M18.56 5.44l.94 2.06.94-2.06 2.06-.94-2.06-.94-.94-2.06-.94 2.06-2.06.94zm-11 1L8.5 8.5l.94-2.06 2.06-.94-2.06-.94L8.5 2.5l-.94 2.06-2.06.94zm10 10l.94 2.06.94-2.06 2.06-.94-2.06-.94-.94-2.06-.94 2.06-2.06.94z\"/><path d=\"M17.41 7.96l-1.37-1.37c-.4-.4-.92-.59-1.43-.59-.52 0-1.04.2-1.43.59L10.3 9.45l-7.72 7.72c-.78.78-.78 2.05 0 2.83L4 21.41c.39.39.9.59 1.41.59.51 0 1.02-.2 1.41-.59l7.78-7.78 2.81-2.81c.8-.78.8-2.07 0-2.86zM5.41 20L4 18.59l7.72-7.72 1.47 1.35L5.41 20z\"/>\n",
              "  </svg>\n",
              "      </button>\n",
              "      \n",
              "  <style>\n",
              "    .colab-df-container {\n",
              "      display:flex;\n",
              "      flex-wrap:wrap;\n",
              "      gap: 12px;\n",
              "    }\n",
              "\n",
              "    .colab-df-convert {\n",
              "      background-color: #E8F0FE;\n",
              "      border: none;\n",
              "      border-radius: 50%;\n",
              "      cursor: pointer;\n",
              "      display: none;\n",
              "      fill: #1967D2;\n",
              "      height: 32px;\n",
              "      padding: 0 0 0 0;\n",
              "      width: 32px;\n",
              "    }\n",
              "\n",
              "    .colab-df-convert:hover {\n",
              "      background-color: #E2EBFA;\n",
              "      box-shadow: 0px 1px 2px rgba(60, 64, 67, 0.3), 0px 1px 3px 1px rgba(60, 64, 67, 0.15);\n",
              "      fill: #174EA6;\n",
              "    }\n",
              "\n",
              "    [theme=dark] .colab-df-convert {\n",
              "      background-color: #3B4455;\n",
              "      fill: #D2E3FC;\n",
              "    }\n",
              "\n",
              "    [theme=dark] .colab-df-convert:hover {\n",
              "      background-color: #434B5C;\n",
              "      box-shadow: 0px 1px 3px 1px rgba(0, 0, 0, 0.15);\n",
              "      filter: drop-shadow(0px 1px 2px rgba(0, 0, 0, 0.3));\n",
              "      fill: #FFFFFF;\n",
              "    }\n",
              "  </style>\n",
              "\n",
              "      <script>\n",
              "        const buttonEl =\n",
              "          document.querySelector('#df-a23fbc7c-bda5-4109-9332-0b088a05dc71 button.colab-df-convert');\n",
              "        buttonEl.style.display =\n",
              "          google.colab.kernel.accessAllowed ? 'block' : 'none';\n",
              "\n",
              "        async function convertToInteractive(key) {\n",
              "          const element = document.querySelector('#df-a23fbc7c-bda5-4109-9332-0b088a05dc71');\n",
              "          const dataTable =\n",
              "            await google.colab.kernel.invokeFunction('convertToInteractive',\n",
              "                                                     [key], {});\n",
              "          if (!dataTable) return;\n",
              "\n",
              "          const docLinkHtml = 'Like what you see? Visit the ' +\n",
              "            '<a target=\"_blank\" href=https://colab.research.google.com/notebooks/data_table.ipynb>data table notebook</a>'\n",
              "            + ' to learn more about interactive tables.';\n",
              "          element.innerHTML = '';\n",
              "          dataTable['output_type'] = 'display_data';\n",
              "          await google.colab.output.renderOutput(dataTable, element);\n",
              "          const docLink = document.createElement('div');\n",
              "          docLink.innerHTML = docLinkHtml;\n",
              "          element.appendChild(docLink);\n",
              "        }\n",
              "      </script>\n",
              "    </div>\n",
              "  </div>\n",
              "  "
            ]
          },
          "metadata": {},
          "execution_count": 13
        }
      ]
    },
    {
      "cell_type": "code",
      "source": [
        "import keras\n",
        "model = keras.Sequential([keras.layers.Dense(units=10, input_shape=[1], activation='linear')])\n",
        "model.compile(optimizer='sgd', loss=\"mean_squared_error\")"
      ],
      "metadata": {
        "id": "Ch8f9g7xHTeu"
      },
      "execution_count": null,
      "outputs": []
    },
    {
      "cell_type": "code",
      "source": [
        "df.columns"
      ],
      "metadata": {
        "colab": {
          "base_uri": "https://localhost:8080/"
        },
        "id": "lereKdFmGmik",
        "outputId": "44c3e957-df39-4d0b-cd99-1b82b9c32558"
      },
      "execution_count": null,
      "outputs": [
        {
          "output_type": "execute_result",
          "data": {
            "text/plain": [
              "Index(['POSTED_BY', 'UNDER_CONSTRUCTION', 'RERA', 'BHK_NO.', 'BHK_OR_RK',\n",
              "       'SQUARE_FT', 'READY_TO_MOVE', 'RESALE', 'LONGITUDE', 'LATITUDE',\n",
              "       'TARGET(PRICE_IN_LACS)'],\n",
              "      dtype='object')"
            ]
          },
          "metadata": {},
          "execution_count": 17
        }
      ]
    },
    {
      "cell_type": "code",
      "source": [
        "x=df[df['POSTED_BY', 'UNDER_CONSTRUCTION', 'RERA', 'BHK_NO.', 'BHK_OR_RK',\n",
        "       'SQUARE_FT', 'READY_TO_MOVE', 'RESALE', 'LONGITUDE', 'LATITUDE']]\n",
        "y = df['TARGET(PRICE_IN_LACS)']\n",
        "model.fit(x,y,epochs=800)"
      ],
      "metadata": {
        "colab": {
          "base_uri": "https://localhost:8080/",
          "height": 130
        },
        "id": "aaxb1FAnIgk4",
        "outputId": "1f72357c-dd8f-499b-cc6c-56ff16ff23d5"
      },
      "execution_count": null,
      "outputs": [
        {
          "output_type": "error",
          "ename": "SyntaxError",
          "evalue": "ignored",
          "traceback": [
            "\u001b[0;36m  File \u001b[0;32m\"<ipython-input-21-77c139b51940>\"\u001b[0;36m, line \u001b[0;32m3\u001b[0m\n\u001b[0;31m    y = df['TARGET(PRICE_IN_LACS)']\u001b[0m\n\u001b[0m    ^\u001b[0m\n\u001b[0;31mSyntaxError\u001b[0m\u001b[0;31m:\u001b[0m invalid syntax\n"
          ]
        }
      ]
    },
    {
      "cell_type": "code",
      "source": [
        "print(model.predict([25.0]))"
      ],
      "metadata": {
        "id": "BoEB7ZD1IlwZ"
      },
      "execution_count": null,
      "outputs": []
    },
    {
      "cell_type": "markdown",
      "source": [
        "Operation 1:"
      ],
      "metadata": {
        "id": "Ad4NYiv2qUlX"
      }
    },
    {
      "cell_type": "code",
      "source": [
        "df=df[df.units_sold_per_annum>=1000]\n",
        "print(df.head())"
      ],
      "metadata": {
        "id": "FZQlLlvoItZU"
      },
      "execution_count": null,
      "outputs": []
    },
    {
      "cell_type": "markdown",
      "source": [
        "Operation 2:"
      ],
      "metadata": {
        "id": "7TfEXFgfqgqv"
      }
    },
    {
      "cell_type": "code",
      "source": [
        "df[df['price'].apply(lambda x: str(x).isdigit())]"
      ],
      "metadata": {
        "id": "6g5sqxK_rHYH"
      },
      "execution_count": null,
      "outputs": []
    },
    {
      "cell_type": "markdown",
      "source": [
        "Uncertain about this(verified by gfg still), shayd kuch needed ho but can't check right now:"
      ],
      "metadata": {
        "id": "BMgF9tV7r0C-"
      }
    },
    {
      "cell_type": "code",
      "source": [
        "df['commission']=[df['price']*df['units_sold_per_annum']*df['dealer_commission']]"
      ],
      "metadata": {
        "id": "9Rm0nzjWrLpX"
      },
      "execution_count": null,
      "outputs": []
    },
    {
      "cell_type": "code",
      "source": [
        "df.groupby('car_company').max('units_sold_per_annum') #doubt in this still it most probably will work,\n",
        "#SQL concepts at work"
      ],
      "metadata": {
        "id": "q_1WEi6TsOmq"
      },
      "execution_count": null,
      "outputs": []
    }
  ]
}