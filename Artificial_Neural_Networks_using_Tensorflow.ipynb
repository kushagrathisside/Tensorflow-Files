{
  "cells": [
    {
      "cell_type": "markdown",
      "metadata": {
        "id": "view-in-github",
        "colab_type": "text"
      },
      "source": [
        "<a href=\"https://colab.research.google.com/github/kushagrathisside/Tensorflow-Files/blob/main/Artificial_Neural_Networks_using_Tensorflow.ipynb\" target=\"_parent\"><img src=\"https://colab.research.google.com/assets/colab-badge.svg\" alt=\"Open In Colab\"/></a>"
      ]
    },
    {
      "cell_type": "code",
      "execution_count": null,
      "metadata": {
        "colab": {
          "background_save": true
        },
        "id": "X4cbCqGhQhNa"
      },
      "outputs": [],
      "source": [
        "import tensorflow as tf\n",
        "from tensorflow import keras"
      ]
    },
    {
      "cell_type": "code",
      "execution_count": null,
      "metadata": {
        "colab": {
          "background_save": true
        },
        "id": "fikFjWLURQwB"
      },
      "outputs": [],
      "source": [
        "mnist_data = tf.keras.datasets.mnist"
      ]
    },
    {
      "cell_type": "code",
      "execution_count": null,
      "metadata": {
        "colab": {
          "background_save": true,
          "base_uri": "https://localhost:8080/"
        },
        "id": "ZIilN6G3RYKl",
        "outputId": "22e56e46-8ce6-43b5-fc37-531e677037f6"
      },
      "outputs": [
        {
          "name": "stdout",
          "output_type": "stream",
          "text": [
            "Downloading data from https://storage.googleapis.com/tensorflow/tf-keras-datasets/mnist.npz\n",
            "11490434/11490434 [==============================] - 1s 0us/step\n"
          ]
        }
      ],
      "source": [
        "(x_train, y_train), (x_test, y_test) = mnist_data.load_data()"
      ]
    },
    {
      "cell_type": "code",
      "execution_count": null,
      "metadata": {
        "colab": {
          "background_save": true,
          "base_uri": "https://localhost:8080/"
        },
        "id": "OB6LUd8dRjjG",
        "outputId": "347ad174-4df2-4ce8-c088-3d790defb3ae"
      },
      "outputs": [
        {
          "data": {
            "text/plain": [
              "(10000, 28, 28)"
            ]
          },
          "execution_count": 4,
          "metadata": {},
          "output_type": "execute_result"
        }
      ],
      "source": [
        "x_test.shape"
      ]
    },
    {
      "cell_type": "code",
      "execution_count": null,
      "metadata": {
        "colab": {
          "background_save": true,
          "base_uri": "https://localhost:8080/"
        },
        "id": "eUFfU_CPRnde",
        "outputId": "3405da44-318a-4e12-b3c1-63e7bc91529b"
      },
      "outputs": [
        {
          "data": {
            "text/plain": [
              "(60000, 28, 28)"
            ]
          },
          "execution_count": 5,
          "metadata": {},
          "output_type": "execute_result"
        }
      ],
      "source": [
        "x_train.shape"
      ]
    },
    {
      "cell_type": "code",
      "execution_count": null,
      "metadata": {
        "colab": {
          "background_save": true
        },
        "id": "mt1NYowsRtME"
      },
      "outputs": [],
      "source": [
        "#Normalizing\n",
        "x_train, x_test=x_train/255, x_test/255"
      ]
    },
    {
      "cell_type": "code",
      "execution_count": null,
      "metadata": {
        "colab": {
          "background_save": true
        },
        "id": "DiIX7oEzR6V_"
      },
      "outputs": [],
      "source": [
        "model=tf.keras.models.Sequential([\n",
        "    tf.keras.layers.Flatten(input_shape=(28,28)),\n",
        "    tf.keras.layers.Dense(128,activation='relu'),\n",
        "    tf.keras.layers.Dropout(0.2),\n",
        "    tf.keras.layers.Dense(10,activation='softmax')\n",
        "])"
      ]
    },
    {
      "cell_type": "code",
      "execution_count": null,
      "metadata": {
        "colab": {
          "background_save": true
        },
        "id": "qT9-IfLtogXl"
      },
      "outputs": [],
      "source": [
        "model2=tf.keras.models.Sequential([\n",
        "    tf.keras.layers.Flatten(input_shape=(28,28)),\n",
        "    tf.keras.layers.Dense(256,activation='relu'),\n",
        "    tf.keras.layers.Dropout(0.4),\n",
        "    tf.keras.layers.Dense(256,activation='relu'),\n",
        "    tf.keras.layers.Dense(256,activation='relu'),\n",
        "    tf.keras.layers.Dense(10,activation='softmax')\n",
        "])"
      ]
    },
    {
      "cell_type": "code",
      "execution_count": null,
      "metadata": {
        "colab": {
          "background_save": true,
          "base_uri": "https://localhost:8080/"
        },
        "id": "FA1J-EaYouu9",
        "outputId": "642029c2-218a-4a30-c21f-760505826f25"
      },
      "outputs": [
        {
          "name": "stdout",
          "output_type": "stream",
          "text": [
            "Model: \"sequential_1\"\n",
            "_________________________________________________________________\n",
            " Layer (type)                Output Shape              Param #   \n",
            "=================================================================\n",
            " flatten_1 (Flatten)         (None, 784)               0         \n",
            "                                                                 \n",
            " dense_2 (Dense)             (None, 256)               200960    \n",
            "                                                                 \n",
            " dropout_1 (Dropout)         (None, 256)               0         \n",
            "                                                                 \n",
            " dense_3 (Dense)             (None, 256)               65792     \n",
            "                                                                 \n",
            " dense_4 (Dense)             (None, 256)               65792     \n",
            "                                                                 \n",
            " dense_5 (Dense)             (None, 10)                2570      \n",
            "                                                                 \n",
            "=================================================================\n",
            "Total params: 335,114\n",
            "Trainable params: 335,114\n",
            "Non-trainable params: 0\n",
            "_________________________________________________________________\n"
          ]
        }
      ],
      "source": [
        "model2.summary()"
      ]
    },
    {
      "cell_type": "code",
      "execution_count": null,
      "metadata": {
        "colab": {
          "background_save": true,
          "base_uri": "https://localhost:8080/"
        },
        "id": "XtXkkCuqmp8C",
        "outputId": "7e65d653-49b4-4e70-ca20-425b265a8f3e"
      },
      "outputs": [
        {
          "name": "stdout",
          "output_type": "stream",
          "text": [
            "Model: \"sequential\"\n",
            "_________________________________________________________________\n",
            " Layer (type)                Output Shape              Param #   \n",
            "=================================================================\n",
            " flatten (Flatten)           (None, 784)               0         \n",
            "                                                                 \n",
            " dense (Dense)               (None, 128)               100480    \n",
            "                                                                 \n",
            " dropout (Dropout)           (None, 128)               0         \n",
            "                                                                 \n",
            " dense_1 (Dense)             (None, 10)                1290      \n",
            "                                                                 \n",
            "=================================================================\n",
            "Total params: 101,770\n",
            "Trainable params: 101,770\n",
            "Non-trainable params: 0\n",
            "_________________________________________________________________\n"
          ]
        }
      ],
      "source": [
        "model.summary()"
      ]
    },
    {
      "cell_type": "code",
      "execution_count": null,
      "metadata": {
        "colab": {
          "background_save": true
        },
        "id": "XHrP0577SxO4"
      },
      "outputs": [],
      "source": [
        "model.compile(optimizer='adam', loss='sparse_categorical_crossentropy', metrics=['accuracy'])"
      ]
    },
    {
      "cell_type": "code",
      "execution_count": null,
      "metadata": {
        "colab": {
          "background_save": true
        },
        "id": "Jvczi8T2pCmF"
      },
      "outputs": [],
      "source": [
        "model2.compile(optimizer='adam', loss='sparse_categorical_crossentropy', metrics=['accuracy'])"
      ]
    },
    {
      "cell_type": "code",
      "execution_count": null,
      "metadata": {
        "colab": {
          "background_save": true,
          "base_uri": "https://localhost:8080/"
        },
        "id": "0dhaD4ZWpFDM",
        "outputId": "f21ebacb-2014-4d6b-a198-513ae1e7418c"
      },
      "outputs": [
        {
          "name": "stdout",
          "output_type": "stream",
          "text": [
            "Epoch 1/30\n",
            "1875/1875 [==============================] - 12s 6ms/step - loss: 0.2843 - accuracy: 0.9129\n",
            "Epoch 2/30\n",
            "1875/1875 [==============================] - 11s 6ms/step - loss: 0.1509 - accuracy: 0.9530\n",
            "Epoch 3/30\n",
            "1875/1875 [==============================] - 11s 6ms/step - loss: 0.1226 - accuracy: 0.9622\n",
            "Epoch 4/30\n",
            "1875/1875 [==============================] - 14s 7ms/step - loss: 0.1079 - accuracy: 0.9682\n",
            "Epoch 5/30\n",
            "1875/1875 [==============================] - 11s 6ms/step - loss: 0.0959 - accuracy: 0.9698\n",
            "Epoch 6/30\n",
            "1875/1875 [==============================] - 11s 6ms/step - loss: 0.0868 - accuracy: 0.9737\n",
            "Epoch 7/30\n",
            "1875/1875 [==============================] - 11s 6ms/step - loss: 0.0789 - accuracy: 0.9757\n",
            "Epoch 8/30\n",
            "1875/1875 [==============================] - 11s 6ms/step - loss: 0.0754 - accuracy: 0.9768\n",
            "Epoch 9/30\n",
            "1875/1875 [==============================] - 11s 6ms/step - loss: 0.0712 - accuracy: 0.9780\n",
            "Epoch 10/30\n",
            "1875/1875 [==============================] - 11s 6ms/step - loss: 0.0644 - accuracy: 0.9804\n",
            "Epoch 11/30\n",
            "1875/1875 [==============================] - 11s 6ms/step - loss: 0.0637 - accuracy: 0.9801\n",
            "Epoch 12/30\n",
            "1875/1875 [==============================] - 11s 6ms/step - loss: 0.0597 - accuracy: 0.9810\n",
            "Epoch 13/30\n",
            "1875/1875 [==============================] - 11s 6ms/step - loss: 0.0571 - accuracy: 0.9822\n",
            "Epoch 14/30\n",
            "1875/1875 [==============================] - 11s 6ms/step - loss: 0.0557 - accuracy: 0.9824\n",
            "Epoch 15/30\n",
            "1875/1875 [==============================] - 11s 6ms/step - loss: 0.0525 - accuracy: 0.9835\n",
            "Epoch 16/30\n",
            "1875/1875 [==============================] - 11s 6ms/step - loss: 0.0518 - accuracy: 0.9837\n",
            "Epoch 17/30\n",
            "1875/1875 [==============================] - 11s 6ms/step - loss: 0.0508 - accuracy: 0.9839\n",
            "Epoch 18/30\n",
            "1875/1875 [==============================] - 11s 6ms/step - loss: 0.0501 - accuracy: 0.9844\n",
            "Epoch 19/30\n",
            "1875/1875 [==============================] - 11s 6ms/step - loss: 0.0488 - accuracy: 0.9852\n",
            "Epoch 20/30\n",
            "1875/1875 [==============================] - 11s 6ms/step - loss: 0.0477 - accuracy: 0.9859\n",
            "Epoch 21/30\n",
            "1875/1875 [==============================] - 11s 6ms/step - loss: 0.0482 - accuracy: 0.9857\n",
            "Epoch 22/30\n",
            "1875/1875 [==============================] - 11s 6ms/step - loss: 0.0453 - accuracy: 0.9862\n",
            "Epoch 23/30\n",
            "1875/1875 [==============================] - 11s 6ms/step - loss: 0.0454 - accuracy: 0.9859\n",
            "Epoch 24/30\n",
            "1875/1875 [==============================] - 11s 6ms/step - loss: 0.0435 - accuracy: 0.9866\n",
            "Epoch 25/30\n",
            "1875/1875 [==============================] - 11s 6ms/step - loss: 0.0430 - accuracy: 0.9875\n",
            "Epoch 26/30\n",
            "1875/1875 [==============================] - 11s 6ms/step - loss: 0.0436 - accuracy: 0.9872\n",
            "Epoch 27/30\n",
            "1875/1875 [==============================] - 11s 6ms/step - loss: 0.0392 - accuracy: 0.9881\n",
            "Epoch 28/30\n",
            "1875/1875 [==============================] - 11s 6ms/step - loss: 0.0411 - accuracy: 0.9878\n",
            "Epoch 29/30\n",
            "1875/1875 [==============================] - 11s 6ms/step - loss: 0.0380 - accuracy: 0.9883\n",
            "Epoch 30/30\n",
            "1875/1875 [==============================] - 11s 6ms/step - loss: 0.0416 - accuracy: 0.9877\n"
          ]
        },
        {
          "data": {
            "text/plain": [
              "<keras.callbacks.History at 0x7f8bc2e43760>"
            ]
          },
          "execution_count": 13,
          "metadata": {},
          "output_type": "execute_result"
        }
      ],
      "source": [
        "model2.fit(x_train,y_train, epochs=30)"
      ]
    },
    {
      "cell_type": "code",
      "execution_count": null,
      "metadata": {
        "colab": {
          "background_save": true,
          "base_uri": "https://localhost:8080/"
        },
        "id": "bit8EIhGqlRq",
        "outputId": "34116f86-2d94-44fd-9dc1-6159eebb4927"
      },
      "outputs": [
        {
          "name": "stdout",
          "output_type": "stream",
          "text": [
            "Epoch 1/10\n",
            "1875/1875 [==============================] - 12s 6ms/step - loss: 0.0380 - accuracy: 0.9887\n",
            "Epoch 2/10\n",
            "1875/1875 [==============================] - 12s 6ms/step - loss: 0.0383 - accuracy: 0.9888\n",
            "Epoch 3/10\n",
            "1875/1875 [==============================] - 12s 6ms/step - loss: 0.0368 - accuracy: 0.9889\n",
            "Epoch 4/10\n",
            "1875/1875 [==============================] - 11s 6ms/step - loss: 0.0398 - accuracy: 0.9887\n",
            "Epoch 5/10\n",
            "1875/1875 [==============================] - 12s 6ms/step - loss: 0.0376 - accuracy: 0.9889\n",
            "Epoch 6/10\n",
            "1875/1875 [==============================] - 12s 6ms/step - loss: 0.0373 - accuracy: 0.9891\n",
            "Epoch 7/10\n",
            "1875/1875 [==============================] - 12s 6ms/step - loss: 0.0383 - accuracy: 0.9888\n",
            "Epoch 8/10\n",
            "1875/1875 [==============================] - 12s 6ms/step - loss: 0.0342 - accuracy: 0.9898\n",
            "Epoch 9/10\n",
            "1875/1875 [==============================] - 15s 8ms/step - loss: 0.0343 - accuracy: 0.9901\n",
            "Epoch 10/10\n",
            "1875/1875 [==============================] - 12s 6ms/step - loss: 0.0330 - accuracy: 0.9901\n"
          ]
        },
        {
          "data": {
            "text/plain": [
              "<keras.callbacks.History at 0x7f8bbf5b9670>"
            ]
          },
          "execution_count": 14,
          "metadata": {},
          "output_type": "execute_result"
        }
      ],
      "source": [
        "model2.fit(x_train,y_train, epochs=10)"
      ]
    },
    {
      "cell_type": "code",
      "execution_count": null,
      "metadata": {
        "colab": {
          "background_save": true,
          "base_uri": "https://localhost:8080/"
        },
        "id": "cZVvg6R3TEdn",
        "outputId": "75b8389a-031e-480d-a064-5944925aa56f"
      },
      "outputs": [
        {
          "name": "stdout",
          "output_type": "stream",
          "text": [
            "Epoch 1/20\n",
            "2400/2400 [==============================] - 10s 4ms/step - loss: 0.2829 - accuracy: 0.9181\n",
            "Epoch 2/20\n",
            "2400/2400 [==============================] - 10s 4ms/step - loss: 0.1364 - accuracy: 0.9596\n",
            "Epoch 3/20\n",
            "2400/2400 [==============================] - 9s 4ms/step - loss: 0.1045 - accuracy: 0.9681\n",
            "Epoch 4/20\n",
            "2400/2400 [==============================] - 9s 4ms/step - loss: 0.0855 - accuracy: 0.9728\n",
            "Epoch 5/20\n",
            "2400/2400 [==============================] - 9s 4ms/step - loss: 0.0734 - accuracy: 0.9765\n",
            "Epoch 6/20\n",
            "2400/2400 [==============================] - 10s 4ms/step - loss: 0.0636 - accuracy: 0.9798\n",
            "Epoch 7/20\n",
            "2400/2400 [==============================] - 10s 4ms/step - loss: 0.0574 - accuracy: 0.9817\n",
            "Epoch 8/20\n",
            "2400/2400 [==============================] - 10s 4ms/step - loss: 0.0533 - accuracy: 0.9826\n",
            "Epoch 9/20\n",
            "2400/2400 [==============================] - 10s 4ms/step - loss: 0.0502 - accuracy: 0.9836\n",
            "Epoch 10/20\n",
            "2400/2400 [==============================] - 10s 4ms/step - loss: 0.0450 - accuracy: 0.9848\n",
            "Epoch 11/20\n",
            "2400/2400 [==============================] - 10s 4ms/step - loss: 0.0396 - accuracy: 0.9866\n",
            "Epoch 12/20\n",
            "2400/2400 [==============================] - 10s 4ms/step - loss: 0.0390 - accuracy: 0.9869\n",
            "Epoch 13/20\n",
            "2400/2400 [==============================] - 11s 5ms/step - loss: 0.0357 - accuracy: 0.9878\n",
            "Epoch 14/20\n",
            "2400/2400 [==============================] - 9s 4ms/step - loss: 0.0337 - accuracy: 0.9886\n",
            "Epoch 15/20\n",
            "2400/2400 [==============================] - 9s 4ms/step - loss: 0.0340 - accuracy: 0.9886\n",
            "Epoch 16/20\n",
            "2400/2400 [==============================] - 8s 3ms/step - loss: 0.0318 - accuracy: 0.9894\n",
            "Epoch 17/20\n",
            "2400/2400 [==============================] - 9s 4ms/step - loss: 0.0297 - accuracy: 0.9900\n",
            "Epoch 18/20\n",
            "2400/2400 [==============================] - 9s 4ms/step - loss: 0.0294 - accuracy: 0.9899\n",
            "Epoch 19/20\n",
            "2400/2400 [==============================] - 10s 4ms/step - loss: 0.0279 - accuracy: 0.9905\n",
            "Epoch 20/20\n",
            "2400/2400 [==============================] - 10s 4ms/step - loss: 0.0254 - accuracy: 0.9908\n"
          ]
        },
        {
          "data": {
            "text/plain": [
              "<keras.callbacks.History at 0x7f8bbf5d2b20>"
            ]
          },
          "execution_count": 15,
          "metadata": {},
          "output_type": "execute_result"
        }
      ],
      "source": [
        "model.fit(x_train,y_train, epochs=20,batch_size=25)"
      ]
    },
    {
      "cell_type": "code",
      "execution_count": null,
      "metadata": {
        "colab": {
          "base_uri": "https://localhost:8080/"
        },
        "id": "OzMX3c6sTUvQ",
        "outputId": "530e323f-cae1-40b6-e009-1a3303e089ef"
      },
      "outputs": [
        {
          "name": "stdout",
          "output_type": "stream",
          "text": [
            "313/313 [==============================] - 1s 2ms/step - loss: 0.0849 - accuracy: 0.9793\n"
          ]
        },
        {
          "data": {
            "text/plain": [
              "[0.08491802215576172, 0.9793000221252441]"
            ]
          },
          "execution_count": 16,
          "metadata": {},
          "output_type": "execute_result"
        }
      ],
      "source": [
        "model.evaluate(x_test,y_test)"
      ]
    },
    {
      "cell_type": "code",
      "execution_count": null,
      "metadata": {
        "colab": {
          "background_save": true,
          "base_uri": "https://localhost:8080/"
        },
        "id": "lNja32UcTooz",
        "outputId": "d9b1cba8-09a7-402b-8f1e-d61762753fd7"
      },
      "outputs": [
        {
          "name": "stdout",
          "output_type": "stream",
          "text": [
            "313/313 [==============================] - 2s 4ms/step - loss: 0.0852 - accuracy: 0.9828\n"
          ]
        },
        {
          "data": {
            "text/plain": [
              "[0.08520721644163132, 0.9828000068664551]"
            ]
          },
          "execution_count": 17,
          "metadata": {},
          "output_type": "execute_result"
        }
      ],
      "source": [
        "model2.evaluate(x_test,y_test)"
      ]
    },
    {
      "cell_type": "code",
      "execution_count": null,
      "metadata": {
        "id": "M6FO95SBp1oj"
      },
      "outputs": [],
      "source": []
    }
  ],
  "metadata": {
    "colab": {
      "provenance": [],
      "authorship_tag": "ABX9TyOhkplkWj7JUg1JdiBoWpkp",
      "include_colab_link": true
    },
    "kernelspec": {
      "display_name": "Python 3",
      "name": "python3"
    },
    "language_info": {
      "name": "python"
    }
  },
  "nbformat": 4,
  "nbformat_minor": 0
}